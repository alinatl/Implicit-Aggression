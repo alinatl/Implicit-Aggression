{
  "nbformat": 4,
  "nbformat_minor": 0,
  "metadata": {
    "colab": {
      "name": "balanced RuBERT.ipynb\"",
      "provenance": [],
      "collapsed_sections": []
    },
    "language_info": {
      "codemirror_mode": {
        "name": "ipython",
        "version": 3
      },
      "file_extension": ".py",
      "mimetype": "text/x-python",
      "name": "python",
      "nbconvert_exporter": "python",
      "pygments_lexer": "ipython3",
      "version": "3.6.6"
    },
    "kernelspec": {
      "display_name": "Deep36_reserve",
      "language": "python",
      "name": "deep36_reserve"
    },
    "accelerator": "GPU"
  },
  "cells": [
    {
      "cell_type": "code",
      "metadata": {
        "id": "aqK0lPv8rPRE"
      },
      "source": [
        "!python -m deeppavlov install config_file"
      ],
      "execution_count": null,
      "outputs": []
    },
    {
      "cell_type": "code",
      "metadata": {
        "id": "82JKwt5_cHJu"
      },
      "source": [
        "!pip install deeppavlov==0.5.0"
      ],
      "execution_count": null,
      "outputs": []
    },
    {
      "cell_type": "code",
      "metadata": {
        "id": "08LW4G-5OEwK"
      },
      "source": [
        "from sklearn.utils import shuffle\n",
        "import numpy as np\n",
        "import pandas as pd\n",
        "import random"
      ],
      "execution_count": 1,
      "outputs": []
    },
    {
      "cell_type": "code",
      "metadata": {
        "id": "XmD8yS4t0O6M"
      },
      "source": [
        "train = pd.read_excel('/content/data_train.xlsx')\n",
        "test = pd.read_excel('/content/data_test.xlsx')"
      ],
      "execution_count": 2,
      "outputs": []
    },
    {
      "cell_type": "code",
      "metadata": {
        "id": "vC7wFL_d0xW0"
      },
      "source": [
        "def df_tolist(data):\n",
        "    df = []\n",
        "    for i, row in data.iterrows():\n",
        "        if str(row['index']) == '1':\n",
        "            df.append((row['текст_спел'], '1'))\n",
        "        elif str(row['index']) == '0':\n",
        "            df.append((row['текст_спел'], '0'))\n",
        "        elif str(row['index']) == '2':\n",
        "            df.append((row['текст_спел'], '2'))\n",
        "    return df"
      ],
      "execution_count": 16,
      "outputs": []
    },
    {
      "cell_type": "code",
      "metadata": {
        "id": "306AZgYBHlew"
      },
      "source": [
        "train = df_tolist(train)\n",
        "test = df_tolist(test)"
      ],
      "execution_count": 17,
      "outputs": []
    },
    {
      "cell_type": "code",
      "metadata": {
        "id": "5kOPBeSh4Ln-"
      },
      "source": [
        "df1 = {'train' : train, 'test' : test}"
      ],
      "execution_count": 18,
      "outputs": []
    },
    {
      "cell_type": "code",
      "metadata": {
        "id": "JxzALtmBlAdZ"
      },
      "source": [
        "import sys\n",
        "!{sys.executable} -m pip install --user deeppavlov"
      ],
      "execution_count": null,
      "outputs": []
    },
    {
      "cell_type": "code",
      "metadata": {
        "id": "G1iWNhFmcHJ4"
      },
      "source": [
        "!pip3 install deeppavlov\n",
        "from deeppavlov.dataset_iterators.basic_classification_iterator import BasicClassificationDatasetIterator"
      ],
      "execution_count": null,
      "outputs": []
    },
    {
      "cell_type": "code",
      "metadata": {
        "id": "7LtY4xKMcHJ5"
      },
      "source": [
        "iterator = BasicClassificationDatasetIterator(df1, seed=42, shuffle=True)"
      ],
      "execution_count": 21,
      "outputs": []
    },
    {
      "cell_type": "code",
      "metadata": {
        "id": "PM7aIjezQbVx"
      },
      "source": [
        "!python -m deeppavlov install squad_bert"
      ],
      "execution_count": null,
      "outputs": []
    },
    {
      "cell_type": "code",
      "metadata": {
        "id": "wHzWodEgcHJ7"
      },
      "source": [
        "from deeppavlov.models.preprocessors.bert_preprocessor import BertPreprocessor"
      ],
      "execution_count": null,
      "outputs": []
    },
    {
      "cell_type": "code",
      "metadata": {
        "id": "CWdRI8I-hZNu"
      },
      "source": [
        "from urllib.request import urlretrieve\n",
        "import os.path"
      ],
      "execution_count": 24,
      "outputs": []
    },
    {
      "cell_type": "code",
      "metadata": {
        "colab": {
          "base_uri": "https://localhost:8080/"
        },
        "id": "zpmBn75xjH_q",
        "outputId": "4078ea66-b385-421a-804d-2cc6288296d9"
      },
      "source": [
        "destination = 'rubert_cased_L-12_H-768_A-12_v2.tar.gz'\n",
        "url = 'http://files.deeppavlov.ai/deeppavlov_data/bert/rubert_cased_L-12_H-768_A-12_v2.tar.gz'\n",
        "urlretrieve(url, destination)"
      ],
      "execution_count": 35,
      "outputs": [
        {
          "output_type": "execute_result",
          "data": {
            "text/plain": [
              "('rubert_cased_L-12_H-768_A-12_v2.tar.gz',\n",
              " <http.client.HTTPMessage at 0x7f61380bcc90>)"
            ]
          },
          "metadata": {
            "tags": []
          },
          "execution_count": 35
        }
      ]
    },
    {
      "cell_type": "code",
      "metadata": {
        "id": "JTFpwckrjV5o"
      },
      "source": [
        "!tar -xzf '/content/rubert_cased_L-12_H-768_A-12_v2.tar.gz'"
      ],
      "execution_count": 36,
      "outputs": []
    },
    {
      "cell_type": "code",
      "metadata": {
        "id": "iP0hUsI5cHJ9"
      },
      "source": [
        "bert_preprocessor = BertPreprocessor(vocab_file=\"/content/rubert_cased_L-12_H-768_A-12_v2/vocab.txt\",\n",
        "                                     do_lower_case=False,\n",
        "                                     max_seq_length=64)"
      ],
      "execution_count": 39,
      "outputs": []
    },
    {
      "cell_type": "code",
      "metadata": {
        "id": "3wZMh_6VcHKO"
      },
      "source": [
        "from deeppavlov.core.data.simple_vocab import SimpleVocabulary"
      ],
      "execution_count": 42,
      "outputs": []
    },
    {
      "cell_type": "code",
      "metadata": {
        "id": "_7O0c273cHKQ"
      },
      "source": [
        "vocab = SimpleVocabulary(save_path=\"./binary_classes.dict\")"
      ],
      "execution_count": null,
      "outputs": []
    },
    {
      "cell_type": "code",
      "metadata": {
        "id": "KO_XRoi0cHKS"
      },
      "source": [
        "vocab.fit(iterator.get_instances(data_type=\"train\")[1])"
      ],
      "execution_count": 45,
      "outputs": []
    },
    {
      "cell_type": "code",
      "metadata": {
        "id": "DiXLIj4EcHKc"
      },
      "source": [
        "from deeppavlov.models.preprocessors.one_hotter import OneHotter"
      ],
      "execution_count": 46,
      "outputs": []
    },
    {
      "cell_type": "code",
      "metadata": {
        "id": "6EtTb1VgcHKe"
      },
      "source": [
        "one_hotter = OneHotter(depth=vocab.len, \n",
        "                       single_vector=True\n",
        "                      )"
      ],
      "execution_count": 47,
      "outputs": []
    },
    {
      "cell_type": "code",
      "metadata": {
        "id": "YTh-O4uvcHKg",
        "colab": {
          "base_uri": "https://localhost:8080/"
        },
        "outputId": "24fdd936-6331-42f4-c091-cc86b3f27409"
      },
      "source": [
        "one_hotter(vocab([\"0\", \"1\", \"2\"]))"
      ],
      "execution_count": 48,
      "outputs": [
        {
          "output_type": "execute_result",
          "data": {
            "text/plain": [
              "[array([0., 0., 1.], dtype=float32),\n",
              " array([0., 1., 0.], dtype=float32),\n",
              " array([1., 0., 0.], dtype=float32)]"
            ]
          },
          "metadata": {
            "tags": []
          },
          "execution_count": 48
        }
      ]
    },
    {
      "cell_type": "code",
      "metadata": {
        "id": "jwZ_zKZYcHKi"
      },
      "source": [
        "from deeppavlov.models.classifiers.proba2labels import Proba2Labels\n",
        "prob2labels = Proba2Labels(max_proba=True)"
      ],
      "execution_count": 49,
      "outputs": []
    },
    {
      "cell_type": "code",
      "metadata": {
        "id": "XgGTTfgqcHKo"
      },
      "source": [
        "from deeppavlov.models.bert.bert_classifier import BertClassifierModel\n",
        "from deeppavlov.metrics.accuracy import sets_accuracy"
      ],
      "execution_count": null,
      "outputs": []
    },
    {
      "cell_type": "code",
      "metadata": {
        "id": "tM6IoNGqcHKp",
        "colab": {
          "base_uri": "https://localhost:8080/"
        },
        "outputId": "09d8c166-73fb-415d-ee76-838e21c1fb4a"
      },
      "source": [
        "bert_classifier = BertClassifierModel(\n",
        "    n_classes=vocab.len,\n",
        "    return_probas=True,\n",
        "    one_hot_labels=True,\n",
        "\n",
        "    bert_config_file=\"/content/rubert_cased_L-12_H-768_A-12_v2/bert_config.json\",\n",
        "    pretrained_bert=\"/content/rubert_cased_L-12_H-768_A-12_v2/bert_model.ckpt\",\n",
        "    \n",
        "    save_path=\"/content/sst_bert_model/model\",\n",
        "    load_path=\"/content/sst_bert_model/model\",\n",
        "    keep_prob=0.5,\n",
        "    learning_rate=1e-05,\n",
        "    learning_rate_drop_patience=1,\n",
        "    learning_rate_drop_div=2.0\n",
        ")\n"
      ],
      "execution_count": 52,
      "outputs": [
        {
          "output_type": "stream",
          "text": [
            "WARNING:tensorflow:From /usr/local/lib/python3.7/dist-packages/deeppavlov/models/bert/bert_classifier.py:96: checkpoint_exists (from tensorflow.python.training.checkpoint_management) is deprecated and will be removed in a future version.\n",
            "Instructions for updating:\n",
            "Use standard file APIs to check for files with this prefix.\n"
          ],
          "name": "stdout"
        },
        {
          "output_type": "stream",
          "text": [
            "2021-05-12 21:54:49.231 INFO in 'deeppavlov.models.bert.bert_classifier'['bert_classifier'] at line 98: [initializing model with Bert from /content/rubert_cased_L-12_H-768_A-12_v2/bert_model.ckpt]\n"
          ],
          "name": "stderr"
        },
        {
          "output_type": "stream",
          "text": [
            "WARNING:tensorflow:From /usr/local/lib/python3.7/dist-packages/deeppavlov/models/bert/bert_classifier.py:102: The name tf.train.Saver is deprecated. Please use tf.compat.v1.train.Saver instead.\n",
            "\n",
            "INFO:tensorflow:Restoring parameters from /content/rubert_cased_L-12_H-768_A-12_v2/bert_model.ckpt\n"
          ],
          "name": "stdout"
        }
      ]
    },
    {
      "cell_type": "code",
      "metadata": {
        "id": "7ITs_wpucHKq",
        "scrolled": true
      },
      "source": [
        "x_valid, y_valid = iterator.get_instances(data_type=\"test\")\n",
        "best_score = 0.\n",
        "patience = 2\n",
        "impatience = 0\n",
        "\n",
        "for ep in range(2):\n",
        "  \n",
        "    nbatches = 0\n",
        "    for x, y in iterator.gen_batches(batch_size=64, \n",
        "                                     data_type=\"train\", shuffle=True):\n",
        "        x_feat = bert_preprocessor(x)\n",
        "        y_onehot = one_hotter(vocab(y))\n",
        "        bert_classifier.train_on_batch(x_feat, y_onehot)\n",
        "        nbatches += 1\n",
        "        \n",
        "        if nbatches % 10 == 0:\n",
        "            y_valid_pred = bert_classifier(bert_preprocessor(x_valid))\n",
        "            score = sets_accuracy(y_valid, vocab(prob2labels(y_valid_pred)))\n",
        "            print(\"Batches done: {}. Valid Accuracy: {}\".format(nbatches, score))\n",
        "            \n",
        "    y_valid_pred = bert_classifier(bert_preprocessor(x_valid))\n",
        "    score = sets_accuracy(y_valid, vocab(prob2labels(y_valid_pred)))\n",
        "    print(\"Epochs done: {}. Valid Accuracy: {}\".format(ep + 1, score))\n",
        "    if score > best_score:\n",
        "        bert_classifier.save()\n",
        "        print(\"New best score. Saving model.\")\n",
        "        best_score = score    \n",
        "        impatience = 0\n",
        "    else:\n",
        "        impatience += 1\n",
        "        if impatience == patience: \n",
        "            print(\"Out of patience. Stop training.\")\n",
        "            break"
      ],
      "execution_count": null,
      "outputs": []
    },
    {
      "cell_type": "code",
      "metadata": {
        "id": "ZP2DnRtqsM4K"
      },
      "source": [
        "x_valid, y_valid = iterator.get_instances(data_type=\"test\")\n",
        "bert_classifier.load()\n",
        "y_valid_pred = bert_classifier(bert_preprocessor(x_valid))"
      ],
      "execution_count": null,
      "outputs": []
    },
    {
      "cell_type": "code",
      "metadata": {
        "id": "4pShl5Mutrom"
      },
      "source": [
        "from sklearn.metrics import accuracy_score, classification_report\n",
        "from sklearn.metrics import ConfusionMatrixDisplay"
      ],
      "execution_count": null,
      "outputs": []
    },
    {
      "cell_type": "code",
      "metadata": {
        "colab": {
          "base_uri": "https://localhost:8080/"
        },
        "id": "f5LKCstwKMDK",
        "outputId": "e72a1465-7053-400b-babd-d70939ea1786"
      },
      "source": [
        "print(\"Text sample: {}\".format(x_valid[0]))\n",
        "print(\"True label: {}\".format(y_valid[0]))\n",
        "print(\"Predicted  probability distribution: {}\".format(dict(zip(vocab.keys(), \n",
        "                                                               y_valid_pred[0]))))\n",
        "print(\"Predicted label: {}\".format(vocab(prob2labels(y_valid_pred))[0]))\n",
        "print()\n",
        "print(classification_report(y_valid, vocab(prob2labels(y_valid_pred))))\n",
        "print(sets_accuracy(y_valid, vocab(prob2labels(y_valid_pred))))\n",
        "                                                     "
      ],
      "execution_count": null,
      "outputs": [
        {
          "output_type": "stream",
          "text": [
            "Text sample: ты че несешь )) с какими мусульманами че там у тебя начнется хахах)))\n",
            "True label: 1\n",
            "Predicted  probability distribution: {'0': 0.035306893, '2': 0.8446489, '1': 0.120044224}\n",
            "Predicted label: ['2']\n",
            "\n",
            "              precision    recall  f1-score   support\n",
            "\n",
            "           0       0.76      0.69      0.72       585\n",
            "           1       0.54      0.47      0.51       579\n",
            "           2       0.66      0.82      0.73       539\n",
            "\n",
            "    accuracy                           0.66      1703\n",
            "   macro avg       0.65      0.66      0.65      1703\n",
            "weighted avg       0.65      0.66      0.65      1703\n",
            "\n",
            "0.6553141514973576\n"
          ],
          "name": "stdout"
        }
      ]
    },
    {
      "cell_type": "code",
      "metadata": {
        "colab": {
          "base_uri": "https://localhost:8080/",
          "height": 314
        },
        "id": "kV_UjzUg4v5t",
        "outputId": "cfb9b7e8-75f0-4fcf-ecb5-07ec86b96f08"
      },
      "source": [
        "import matplotlib.pyplot as plt\n",
        "from sklearn.datasets import make_classification\n",
        "from sklearn.metrics import confusion_matrix\n",
        "from sklearn.model_selection import train_test_split\n",
        "from sklearn.svm import SVC\n",
        "\n",
        "class_names = ['0', '1', '2']\n",
        "cm = confusion_matrix(y_valid, vocab(prob2labels(y_valid_pred)), class_names)\n",
        "cm = cm.astype('float') / cm.sum(axis=1)[:, np.newaxis]\n",
        "\n",
        "disp = ConfusionMatrixDisplay(confusion_matrix=cm, display_labels=class_names)\n",
        "\n",
        "disp = disp.plot(include_values=class_names, cmap=plt.cm.Blues) \n",
        "disp.ax_.set_title(\"Normalized confusion matrix for balanced RuBERT\")"
      ],
      "execution_count": null,
      "outputs": [
        {
          "output_type": "execute_result",
          "data": {
            "text/plain": [
              "Text(0.5, 1.0, 'Normalized confusion matrix for balanced RuBERT')"
            ]
          },
          "metadata": {
            "tags": []
          },
          "execution_count": 131
        },
        {
          "output_type": "display_data",
          "data": {
            "image/png": "[encoded data removed]",
            "text/plain": [
              "<Figure size 432x288 with 2 Axes>"
            ]
          },
          "metadata": {
            "tags": [],
            "needs_background": "light"
          }
        }
      ]
    }
  ]
}